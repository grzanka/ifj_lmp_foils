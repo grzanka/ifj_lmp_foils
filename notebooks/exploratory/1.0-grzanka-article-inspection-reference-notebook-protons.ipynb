{
 "cells": [
  {
   "cell_type": "code",
   "execution_count": null,
   "id": "59a150cd-70a4-49d9-ab2c-e431200df8b4",
   "metadata": {},
   "outputs": [],
   "source": [
    "import matplotlib.dates as mdates\n",
    "import matplotlib.pylab as plt\n",
    "from matplotlib.ticker import MaxNLocator\n",
    "\n",
    "from src.visualisation.visualize import apply_mpl_settings\n",
    "\n",
    "apply_mpl_settings()\n",
    "import datetime\n",
    "import json\n",
    "from collections import defaultdict\n",
    "from pathlib import Path\n",
    "\n",
    "import numpy as np\n",
    "import scipy.stats as stats\n",
    "import pandas as pd\n",
    "\n",
    "from src.data.analysis import Circle, get_mean_std, get_timestamp\n",
    "from src.visualisation.visualize import apply_defaults, apply_grid"
   ]
  },
  {
   "cell_type": "markdown",
   "id": "90cfed50-48c8-4a51-9ad4-7b2a063aa803",
   "metadata": {},
   "source": [
    "# Dataset"
   ]
  },
  {
   "cell_type": "code",
   "execution_count": null,
   "id": "9e94a92a",
   "metadata": {},
   "outputs": [],
   "source": [
    "interim_path = Path('..', '..', 'data', 'interim', 'foils')\n",
    "raw_path = Path('..', '..', 'data', 'raw', 'foils')"
   ]
  },
  {
   "cell_type": "code",
   "execution_count": null,
   "id": "9c84c4a1",
   "metadata": {},
   "outputs": [],
   "source": [
    "ref_dataset = '2020_10_12_Co60'\n",
    "ref_dose_Gy = 60.\n",
    "ref_dataset_path = Path(interim_path, ref_dataset)\n",
    "list_of_ref_datasets = []\n",
    "if ref_dataset_path.exists():\n",
    "    list_of_ref_datasets = sorted((entry.name for entry in ref_dataset_path.iterdir() if entry.name.isdigit()), key=lambda s: int(s))\n",
    "' '.join(list_of_ref_datasets)"
   ]
  },
  {
   "cell_type": "code",
   "execution_count": null,
   "id": "87a86c44",
   "metadata": {},
   "outputs": [],
   "source": [
    "dataset = '2022_11_17_bp'\n",
    "#dataset = '2022_11_18_sobp'\n",
    "#dataset = '2022_11_03_Co60'\n",
    "dataset_path = Path(interim_path, dataset)\n",
    "list_of_datasets = []\n",
    "if dataset_path.exists():\n",
    "    list_of_datasets = sorted((entry.name for entry in dataset_path.iterdir() if entry.name.isdigit()), key=lambda s: int(s))\n",
    "' '.join(list_of_datasets)"
   ]
  },
  {
   "cell_type": "code",
   "execution_count": null,
   "id": "b70e832f",
   "metadata": {},
   "outputs": [],
   "source": [
    "if list_of_datasets:\n",
    "    [entry.name for entry in Path(dataset_path, list_of_datasets[0]).iterdir()]"
   ]
  },
  {
   "cell_type": "code",
   "execution_count": null,
   "id": "ab502a7d",
   "metadata": {},
   "outputs": [],
   "source": [
    "df_ref_data = {'det_id' : [], 'signal_mean' : [], 'signal_std' : []}\n",
    "filename = 'raw-after-ff'\n",
    "for det in list_of_ref_datasets:\n",
    "    df_ref_data['det_id'].append(int(det))\n",
    "    data = np.load(f'{interim_path}/{ref_dataset}/{det}/{filename}.npy')\n",
    "    analysis_circle = Circle.from_json(f'{interim_path}/{ref_dataset}/{det}/analysis-circle.json')\n",
    "    mean, std = get_mean_std(data, analysis_circle)\n",
    "    df_ref_data[f'signal_mean'].append(mean)\n",
    "    df_ref_data[f'signal_std'].append(std)\n",
    "print(\"done\")\n",
    "df_ref = pd.DataFrame.from_dict(df_ref_data)\n",
    "df_ref['dose_Gy_per_signal'] = ref_dose_Gy / df_ref['signal_mean']\n",
    "df_ref.head()"
   ]
  },
  {
   "cell_type": "code",
   "execution_count": null,
   "id": "889e4045-77ad-496f-8699-b5f43011120f",
   "metadata": {},
   "outputs": [],
   "source": [
    "df_data = defaultdict(list)\n",
    "df_data['det_id'] = []\n",
    "df_data['timestamp'] = []\n",
    "for filename in ('raw', 'raw-bg-image-removed', 'raw-aligned', 'raw-after-ff'):\n",
    "    df_data[f'{filename}_signal_mean'] = []\n",
    "    df_data[f'{filename}_signal_std'] = []\n",
    "for det in list_of_datasets:\n",
    "    df_data['det_id'].append(int(det))\n",
    "    df_data['timestamp'].append(get_timestamp(f'{raw_path}/{dataset}/{det}/Pos0/metadata.txt'))\n",
    "\n",
    "    analysis_circle = Circle.from_json(f'{interim_path}/{dataset}/{det}/analysis-circle.json')\n",
    "    aligned_analysis_circle = Circle.from_json(f'{interim_path}/{dataset}/{det}/aligned-analysis-circle.json')\n",
    "\n",
    "    for filename in ('raw', 'raw-bg-image-removed', 'raw-aligned', 'raw-after-ff'):\n",
    "        data = np.load(Path(dataset_path, det, f'{filename}.npy'))\n",
    "        circle = analysis_circle\n",
    "        if 'aligned' in filename:\n",
    "            circle = aligned_analysis_circle\n",
    "        mean, std = get_mean_std(data, circle)\n",
    "        df_data[f'{filename}_signal_mean'].append(mean)\n",
    "        df_data[f'{filename}_signal_std'].append(std)\n",
    "df = pd.DataFrame.from_dict(df_data)\n",
    "df.head()"
   ]
  },
  {
   "cell_type": "markdown",
   "id": "90cfed50-48c8-4a51-9ad4-7b2a063aa803",
   "metadata": {},
   "source": [
    "# Figure 1 - raw signal"
   ]
  },
  {
   "cell_type": "code",
   "execution_count": null,
   "id": "0772a94a-4ff5-4d5d-b93d-762bc79d248c",
   "metadata": {},
   "outputs": [],
   "source": [
    "fig, ax = plt.subplots(figsize=(8,5))\n",
    "ax.errorbar(df.det_id, df['raw_signal_mean'], yerr=df['raw_signal_std'], fmt='', linestyle='', marker='.', label='raw')\n",
    "apply_defaults(ax)\n",
    "ax.legend(loc='lower right')\n",
    "if list_of_datasets:\n",
    "    ax.set_xlim(int(min(list_of_datasets, key=lambda s:int(s)))-1, int(max(list_of_datasets, key=lambda s:int(s)))+1);\n",
    "ax.xaxis.set_major_locator(MaxNLocator(integer=True))\n",
    "ax.set_xlabel('detector id')\n",
    "ax.set_ylabel('signal [a.u.]');"
   ]
  },
  {
   "cell_type": "code",
   "execution_count": null,
   "id": "95f8fffe",
   "metadata": {},
   "outputs": [],
   "source": [
    "fig, ax = plt.subplots(figsize=(8,5))\n",
    "ax.errorbar(df.timestamp, df['raw_signal_mean'], yerr=df['raw_signal_std'], fmt='', linestyle='', marker='.', label=dataset, color=\"C0\")\n",
    "apply_grid(ax)\n",
    "ax.legend(loc='lower left')\n",
    "ax.set_xlabel('detector readout time')\n",
    "ax.set_ylabel('signal [a.u.]');\n",
    "ax.set_title(f'raw signal from circle with radius {analysis_circle.r} px')\n",
    "ax.xaxis.set_major_formatter(mdates.DateFormatter('%H:%M', tz=datetime.timezone(datetime.timedelta(hours=1))))"
   ]
  },
  {
   "cell_type": "code",
   "execution_count": null,
   "id": "ba169af7",
   "metadata": {},
   "outputs": [],
   "source": [
    "fig, ax = plt.subplots(figsize=(8,5))\n",
    "ax.plot(df.timestamp, df.det_id, linestyle='', marker='.', label=dataset, color=\"C0\")\n",
    "apply_grid(ax)\n",
    "ax.legend(loc='upper left')\n",
    "ax.set_xlabel('detector readout time')\n",
    "ax.set_ylabel('detector id')\n",
    "ax.yaxis.set_major_locator(MaxNLocator(integer=True))\n",
    "ax.xaxis.set_major_formatter(mdates.DateFormatter('%H:%M', tz=datetime.timezone(datetime.timedelta(hours=1))));"
   ]
  },
  {
   "cell_type": "markdown",
   "id": "90cfed50-48c8-4a51-9ad4-7b2a063aa803",
   "metadata": {},
   "source": [
    "# Figure 2 - processing"
   ]
  },
  {
   "cell_type": "code",
   "execution_count": null,
   "id": "0c8d09ca",
   "metadata": {},
   "outputs": [],
   "source": [
    "fig, ax = plt.subplots(figsize=(8,5))\n",
    "for id, filename in enumerate(('raw-bg-image-removed', 'raw-after-ff', 'raw-aligned')):\n",
    "    ax.errorbar(df.det_id+id/10, df[f'{filename}_signal_mean'], yerr=df[f'{filename}_signal_std'], fmt='', linestyle='', marker='.', label=filename)\n",
    "apply_defaults(ax)\n",
    "ax.legend()\n",
    "if list_of_datasets:\n",
    "    ax.set_xlim(int(min(list_of_datasets, key=lambda s:int(s)))-1, int(max(list_of_datasets, key=lambda s:int(s)))+1);\n",
    "ax.xaxis.set_major_locator(MaxNLocator(integer=True))\n",
    "ax.set_xlabel('detector id')\n",
    "ax.set_ylabel('signal [a.u.]');"
   ]
  },
  {
   "cell_type": "markdown",
   "id": "90cfed50-48c8-4a51-9ad4-7b2a063aa803",
   "metadata": {},
   "source": [
    "# Figure 3 - doses"
   ]
  },
  {
   "cell_type": "code",
   "execution_count": null,
   "id": "635240e4",
   "metadata": {},
   "outputs": [],
   "source": [
    "df['dose_Gy_uncorrected_mean'] = np.nan\n",
    "df['dose_Gy_uncorrected_std'] = np.nan\n",
    "for det in list_of_datasets:\n",
    "    det_id = int(det)\n",
    "    if det_id in df_ref.det_id.values:\n",
    "        df.loc[df.det_id==det_id, 'dose_Gy_uncorrected_mean'] = df_ref.loc[df_ref.det_id==det_id, 'dose_Gy_per_signal'].values * df.loc[df.det_id==det_id, 'raw-after-ff_signal_mean'].values\n",
    "        df.loc[df.det_id==det_id, 'dose_Gy_uncorrected_std'] = df_ref.loc[df_ref.det_id==det_id, 'dose_Gy_per_signal'].values * df.loc[df.det_id==det_id, 'raw-after-ff_signal_std'].values"
   ]
  },
  {
   "cell_type": "code",
   "execution_count": null,
   "id": "8dbc0f3f",
   "metadata": {},
   "outputs": [],
   "source": [
    "fig, ax = plt.subplots(figsize=(8,5))\n",
    "ax.errorbar(df.det_id, df['dose_Gy_uncorrected_mean'], yerr=df['dose_Gy_uncorrected_std'], fmt='', linestyle='', marker='.', label='dose')\n",
    "apply_defaults(ax)\n",
    "ax.legend(loc=3)\n",
    "if list_of_datasets:\n",
    "    ax.set_xlim(int(min(list_of_datasets, key=lambda s:int(s)))-1, int(max(list_of_datasets, key=lambda s:int(s)))+1);\n",
    "ax.xaxis.set_major_locator(MaxNLocator(integer=True))\n",
    "ax.set_xlabel('detector id')\n",
    "ax.set_ylabel('dose [Gy]');"
   ]
  },
  {
   "cell_type": "markdown",
   "id": "90cfed50-48c8-4a51-9ad4-7b2a063aa803",
   "metadata": {},
   "source": [
    "# Figure 4 - 2D images"
   ]
  },
  {
   "cell_type": "code",
   "execution_count": null,
   "id": "6a518f82",
   "metadata": {},
   "outputs": [],
   "source": [
    "det = 4"
   ]
  },
  {
   "cell_type": "code",
   "execution_count": null,
   "id": "448891b7",
   "metadata": {},
   "outputs": [],
   "source": [
    "try:\n",
    "    vmax_data = max(np.nanpercentile(a=np.load(Path(dataset_path, f'{det}', f'{filename}.npy')), q=95) for filename in ('raw-bg-image-removed', 'raw-after-ff', 'raw-aligned'))\n",
    "    print(f'vmax_data = {vmax_data}')\n",
    "\n",
    "    vmax_ref_data = max(np.nanpercentile(a=np.load(f'{interim_path}/{ref_dataset}/{det}/{filename}.npy'), q=95) for filename in ('raw-bg-image-removed', 'raw-after-ff', 'raw-aligned'))\n",
    "    print(f'vmax_ref_data = {vmax_ref_data}')\n",
    "\n",
    "    detector_circle = Circle.from_json(f'{interim_path}/{dataset}/{det}lv/det-circle.json')\n",
    "    aligned_det_circle = Circle.from_json(f'{interim_path}/{dataset}/{det}lv/aligned-det-circle.json')\n",
    "\n",
    "    analysis_circle = Circle.from_json(f'{interim_path}/{dataset}/{det}/analysis-circle.json')\n",
    "    aligned_analysis_circle = Circle.from_json(f'{interim_path}/{dataset}/{det}/aligned-analysis-circle.json')\n",
    "except FileNotFoundError:\n",
    "    print(f'no data for detector {det}')"
   ]
  },
  {
   "cell_type": "code",
   "execution_count": null,
   "id": "d7716542",
   "metadata": {},
   "outputs": [],
   "source": [
    "fig, axes = plt.subplots(nrows=2, ncols=3, figsize=(16,10))\n",
    "\n",
    "for col_id, filename in enumerate(('raw-bg-image-removed', 'raw-after-ff', 'raw-aligned')):\n",
    "    try:\n",
    "        data = np.load(Path(dataset_path, f'{det}', f'{filename}.npy'))\n",
    "    except FileNotFoundError:\n",
    "        print(f'no data for detector {det}')\n",
    "        continue\n",
    "    data_for_plotting = np.clip(data, a_min=None, a_max=np.nanpercentile(a=data, q=95))\n",
    "    data_plot = axes[0][col_id].imshow(data_for_plotting, cmap='terrain', vmin=0, vmax=vmax_data);\n",
    "    axes[0][col_id].set_title(f'{dataset} {filename}')\n",
    "\n",
    "    ref_data = np.load(f'{interim_path}/{ref_dataset}/{det}/{filename}.npy')\n",
    "    ref_data_for_plotting = np.clip(ref_data, a_min=None, a_max=np.nanpercentile(a=ref_data, q=95))\n",
    "    ref_data_plot = axes[1][col_id].imshow(ref_data_for_plotting, cmap='terrain', vmin=0, vmax=vmax_ref_data);\n",
    "    axes[1][col_id].set_title(f'{ref_dataset} {filename}')\n",
    "\n",
    "    ax = axes[0][col_id] \n",
    "    if 'aligned' in filename:\n",
    "        ax.add_artist(plt.Circle(xy=(aligned_det_circle.x, aligned_det_circle.y), radius=aligned_det_circle.r, color='black', fill=False, transform=ax.transData))\n",
    "        ax.add_artist(plt.Circle(xy=(aligned_analysis_circle.x, aligned_analysis_circle.y), radius=aligned_analysis_circle.r, color='red', fill=False, transform=ax.transData))\n",
    "    else:\n",
    "        ax.add_artist(plt.Circle(xy=(detector_circle.x, detector_circle.y), radius=detector_circle.r, color='black', fill=False, transform=ax.transData))\n",
    "        ax.add_artist(plt.Circle(xy=(analysis_circle.x, analysis_circle.y), radius=analysis_circle.r, color='red', fill=False, transform=ax.transData))\n",
    "\n",
    "fig.colorbar(data_plot, ax=axes[0], location='right', shrink=0.75)\n",
    "fig.colorbar(ref_data_plot, ax=axes[1], location='right', shrink=0.75);"
   ]
  },
  {
   "cell_type": "code",
   "execution_count": null,
   "id": "124d8d4b",
   "metadata": {},
   "outputs": [],
   "source": [
    "fig, ax = plt.subplots(nrows=1, ncols=1, figsize=(8,5))\n",
    "try:\n",
    "    data = np.load(Path(dataset_path, f'{det}', f'raw-aligned.npy'))\n",
    "    ref_data = np.load(f'{interim_path}/{ref_dataset}/{det}/raw-aligned.npy')\n",
    "except  FileNotFoundError:\n",
    "    print(f'no data for detector {det}')\n",
    "    pass\n",
    "data_Gy_uncorrected = data * ref_dose_Gy / ref_data\n",
    "data_for_plotting = np.clip(data_Gy_uncorrected, a_min=None, a_max=np.nanpercentile(a=data_Gy_uncorrected, q=95))\n",
    "data_plot = ax.imshow(data_for_plotting, cmap='terrain', vmin=0);\n",
    "ax.add_artist(plt.Circle(xy=(aligned_det_circle.x, aligned_det_circle.y), radius=aligned_det_circle.r, color='black', fill=False, transform=ax.transData))\n",
    "ax.add_artist(plt.Circle(xy=(aligned_analysis_circle.x, aligned_analysis_circle.y), radius=aligned_analysis_circle.r, color='red', fill=False, transform=ax.transData))\n",
    "fig.colorbar(data_plot, ax=ax, location='right', shrink=0.75);"
   ]
  },
  {
   "cell_type": "code",
   "execution_count": null,
   "id": "cba829e7",
   "metadata": {},
   "outputs": [],
   "source": []
  }
 ],
 "metadata": {
  "kernelspec": {
   "display_name": "Python 3.8.10 ('venv': venv)",
   "language": "python",
   "name": "python3"
  },
  "language_info": {
   "codemirror_mode": {
    "name": "ipython",
    "version": 3
   },
   "file_extension": ".py",
   "mimetype": "text/x-python",
   "name": "python",
   "nbconvert_exporter": "python",
   "pygments_lexer": "ipython3",
   "version": "3.8.10"
  },
  "toc-showtags": false,
  "vscode": {
   "interpreter": {
    "hash": "c5c2b18c3abf68aa5c970fc72d82db9c05892224e1a29c382a448dec2dfe8943"
   }
  }
 },
 "nbformat": 4,
 "nbformat_minor": 5
}
