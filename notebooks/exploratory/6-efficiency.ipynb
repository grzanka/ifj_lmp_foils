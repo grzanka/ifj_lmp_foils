{
 "cells": [
  {
   "attachments": {},
   "cell_type": "markdown",
   "metadata": {},
   "source": [
    "# Imports"
   ]
  },
  {
   "cell_type": "code",
   "execution_count": 4,
   "metadata": {},
   "outputs": [],
   "source": [
    "from concurrent.futures import ThreadPoolExecutor\n",
    "import os\n",
    "from pathlib import Path\n",
    "from typing import Optional\n",
    "from src.data.paths import project_dir\n",
    "from src.data.analysis import Circle, get_mean_std, get_timestamp, create_circular_mask\n",
    "\n",
    "import numpy as np\n",
    "import numpy.typing as npt\n",
    "from scipy import ndimage\n",
    "import pandas as pd\n",
    "import seaborn as sns\n",
    "\n",
    "import matplotlib.pyplot as plt\n",
    "from matplotlib.lines import Line2D  \n",
    "from matplotlib.patches import Circle as CirclePatch"
   ]
  },
  {
   "cell_type": "code",
   "execution_count": 5,
   "metadata": {},
   "outputs": [],
   "source": [
    "from typing import List\n",
    "def read_df(path : Path , det_names : List[str], analysis_radius : float = 300) -> pd.DataFrame:\n",
    "    df = pd.DataFrame()\n",
    "    df[\"det_id\"] = det_names\n",
    "    df.det_id = df.det_id.astype('uint8')\n",
    "    df[\"raw_data\"] = df.det_id.apply(lambda id: np.load(path / f\"{id}\" / \"raw.npy\"))\n",
    "    df[\"timestamp\"] = df.det_id.apply(lambda id: get_timestamp(path / f\"{id}\" / \"metadata.txt\"))\n",
    "    df[\"det_circle\"] = df.det_id.apply(lambda x: Circle.from_json(path / f\"{x}lv\" / \"det-circle.json\"))\n",
    "    df[\"det_angle\"] = df.det_id.apply(lambda id: np.load(path / f\"{id}lv\" / \"angle.npy\"))\n",
    "    df[\"raw_mean_center\"] = df.apply(lambda tmpdf: get_mean_std(tmpdf.raw_data, tmpdf.det_circle)[0], axis=1)\n",
    "    df[\"raw_std_center\"] = df.apply(lambda tmpdf: get_mean_std(tmpdf.raw_data, tmpdf.det_circle)[1], axis=1)\n",
    "\n",
    "    df['analysis_circle'] = df.det_circle.apply(lambda c: Circle(c.x, c.y, analysis_radius))\n",
    "    df[\"raw_mean\"] = df.apply(lambda tmpdf: get_mean_std(tmpdf.raw_data, tmpdf.analysis_circle)[0], axis=1)\n",
    "    df[\"raw_std\"] = df.apply(lambda tmpdf: get_mean_std(tmpdf.raw_data, tmpdf.analysis_circle)[1], axis=1)\n",
    "    return df"
   ]
  },
  {
   "attachments": {},
   "cell_type": "markdown",
   "metadata": {},
   "source": [
    "# Data reading"
   ]
  },
  {
   "cell_type": "code",
   "execution_count": 6,
   "metadata": {},
   "outputs": [],
   "source": [
    "pre_irr_bg = project_dir / \"data\" / \"interim\" / \"foils\" / \"2022_11_23_background\"\n",
    "pre_irr_bg_ids = sorted((entry.name for entry in pre_irr_bg.iterdir() if entry.name.isdigit()), key=lambda s: int(s))\n",
    "df_pre_bg = read_df(pre_irr_bg, pre_irr_bg_ids)\n",
    "df_pre_bg[\"label\"] = \"pre_irr_bg\"\n",
    "# df_pre_bg.head()"
   ]
  },
  {
   "cell_type": "code",
   "execution_count": 7,
   "metadata": {},
   "outputs": [],
   "source": [
    "data_co60 = project_dir / \"data\" / \"interim\" / \"foils\" / \"2022_11_23_Co60\"\n",
    "data_co60_ids = sorted((entry.name for entry in data_co60.iterdir() if entry.name.isdigit()), key=lambda s: int(s))\n",
    "df_Co60 = read_df(data_co60, data_co60_ids)\n",
    "df_Co60[\"label\"] = \"Co60\"\n",
    "# df_Co60.head()"
   ]
  },
  {
   "cell_type": "code",
   "execution_count": 8,
   "metadata": {},
   "outputs": [],
   "source": [
    "ff_image_path = project_dir / \"data\" / \"interim\" / \"foils\" / \"2022_08_22_flat_field\" / \"FF_2sLED_U340\" / \"FF_1\" / \"raw.npy\"\n",
    "ff_data = np.load(ff_image_path)"
   ]
  },
  {
   "cell_type": "code",
   "execution_count": 9,
   "metadata": {},
   "outputs": [],
   "source": [
    "data_sobp = project_dir / \"data\" / \"interim\" / \"foils\" / \"2022_11_18_sobp\"\n",
    "data_sobp_ids = sorted((entry.name for entry in data_sobp.iterdir() if entry.name.isdigit()), key=lambda s: int(s))\n",
    "df_sobp = read_df(data_sobp, data_sobp_ids)\n",
    "df_sobp[\"label\"] = \"SOBP\"\n",
    "# df_Co60.head()"
   ]
  },
  {
   "cell_type": "code",
   "execution_count": 10,
   "metadata": {},
   "outputs": [],
   "source": [
    "data_bp = project_dir / \"data\" / \"interim\" / \"foils\" / \"2022_11_17_bp\"\n",
    "data_bp_ids = sorted((entry.name for entry in data_bp.iterdir() if entry.name.isdigit()), key=lambda s: int(s))\n",
    "df_bp = read_df(data_bp, data_bp_ids)\n",
    "df_bp[\"label\"] = \"BP\"\n",
    "# df_Co60.head()"
   ]
  },
  {
   "cell_type": "code",
   "execution_count": 11,
   "metadata": {},
   "outputs": [
    {
     "name": "stdout",
     "output_type": "stream",
     "text": [
      "a = 0.001687053830354033, b = 1039.8119645231088\n"
     ]
    }
   ],
   "source": [
    "# apply correction for sensor stability as function of time\n",
    "x = df_pre_bg.timestamp.apply(lambda x: (x - df_pre_bg.timestamp.min()).total_seconds()).values\n",
    "y = df_pre_bg.raw_mean_center.values\n",
    "a,b = np.polyfit(x, y, 1)\n",
    "print(f\"a = {a}, b = {b}\")\n",
    "\n",
    "df_pre_bg[\"raw_data_stabilised\"] = df_pre_bg.apply(lambda x: x.raw_data - a * (x.timestamp - df_pre_bg.timestamp.min()).total_seconds() , axis=1)\n",
    "df_Co60[\"raw_data_stabilised\"] = df_Co60.apply(lambda x: x.raw_data , axis=1)\n",
    "df_sobp[\"raw_data_stabilised\"] = df_sobp.apply(lambda x: x.raw_data - a * (x.timestamp - df_sobp.timestamp.min()).total_seconds() , axis=1)\n",
    "df_bp[\"raw_data_stabilised\"] = df_bp.apply(lambda x: x.raw_data - a * (x.timestamp - df_bp.timestamp.min()).total_seconds() , axis=1)\n",
    "\n",
    "df_pre_bg[\"raw_mean_stabilized\"] = df_pre_bg.apply(lambda tmpdf: get_mean_std(tmpdf.raw_data_stabilised, tmpdf.analysis_circle)[0], axis=1)\n",
    "df_Co60[\"raw_mean_stabilized\"] = df_Co60.apply(lambda tmpdf: get_mean_std(tmpdf.raw_data_stabilised, tmpdf.analysis_circle)[0], axis=1)\n",
    "df_sobp[\"raw_mean_stabilized\"] = df_sobp.apply(lambda tmpdf: get_mean_std(tmpdf.raw_data_stabilised, tmpdf.analysis_circle)[0], axis=1)\n",
    "df_bp[\"raw_mean_stabilized\"] = df_bp.apply(lambda tmpdf: get_mean_std(tmpdf.raw_data_stabilised, tmpdf.analysis_circle)[0], axis=1)"
   ]
  },
  {
   "attachments": {},
   "cell_type": "markdown",
   "metadata": {},
   "source": [
    "# Data inspection"
   ]
  },
  {
   "cell_type": "code",
   "execution_count": 12,
   "metadata": {},
   "outputs": [],
   "source": [
    "\n",
    "def singal_df(df_data : pd.DataFrame, df_bg : pd.DataFrame, ff_array : Optional[npt.NDArray] = None, analysis_radius : float = 300) -> pd.DataFrame:\n",
    "    df_signal = df_data.copy()\n",
    "    df_signal.set_index(\"det_id\", inplace=True)\n",
    "\n",
    "    # remove background\n",
    "    df_bg.set_index(\"det_id\", inplace=True)\n",
    "    df_signal[\"bg_sub\"] = df_signal.raw_data - df_bg.raw_data\n",
    "    df_signal[\"bg_sub_stabilized\"] = df_signal.raw_data_stabilised - df_bg.raw_data_stabilised\n",
    "    df_bg.reset_index(inplace=True)\n",
    "\n",
    "    # apply FF\n",
    "    df_signal[\"sensor_corr\"] = df_signal.bg_sub_stabilized\n",
    "    if ff_array is not None:\n",
    "        big_circle = Circle(x=ff_array.shape[1]/2, y=ff_array.shape[0]/2, r=ff_array.shape[1]/2-10)\n",
    "        mask = create_circular_mask(img=ff_data, circle_px=big_circle)\n",
    "        gain =  ff_array / np.mean(ff_array[mask])\n",
    "        df_signal[\"sensor_corr\"] = df_signal.bg_sub_stabilized.apply(lambda x: x / gain)\n",
    "        \n",
    "    # move to center, faster version using multiple threads\n",
    "    no_of_cpus = os.cpu_count()\n",
    "    if no_of_cpus is None:\n",
    "        no_of_cpus = 1\n",
    "    def shift(data: npt.NDArray, x : float, y : float) -> npt.NDArray:\n",
    "        return ndimage.shift(data, (data.shape[1]/2-y,data.shape[0]/2-x), cval=np.nan, prefilter=False)\n",
    "    def apply_shift(df : pd.DataFrame) -> pd.Series:\n",
    "        return df.apply(lambda x: shift(x.sensor_corr, x.det_circle.x, x.det_circle.y), axis=1)    \n",
    "    with ThreadPoolExecutor() as executor:\n",
    "        chunks_of_shifted_df = executor.map(apply_shift, np.array_split(df_signal, no_of_cpus))\n",
    "    df_signal[\"centered\"] = pd.concat(chunks_of_shifted_df)\n",
    "\n",
    "    df_signal[\"analysis_circle_centered\"] = df_signal.apply(lambda x: pd.Series(Circle(x.centered.shape[0]//2, x.centered.shape[1]//2, analysis_radius)), axis=1)\n",
    "    df_signal[\"detector_circle_centered\"] = df_signal.apply(lambda x: pd.Series(Circle(x.centered.shape[0]//2, x.centered.shape[1]//2, x.det_circle.r)), axis=1)\n",
    "    \n",
    "    # rotate\n",
    "    def rotate(data: npt.NDArray, angle_deg : float) -> npt.NDArray:\n",
    "        return ndimage.rotate(data, -angle_deg, cval=np.nan, reshape=False, prefilter=False)\n",
    "    def apply_rotate(df : pd.DataFrame) -> pd.Series:\n",
    "        return df.apply(lambda x: rotate(x.centered, x.det_angle), axis=1)\n",
    "    with ThreadPoolExecutor() as executor:\n",
    "        chunks_of_rotated_df = executor.map(apply_rotate, np.array_split(df_signal, no_of_cpus))\n",
    "    df_signal[\"rotated\"] = pd.concat(chunks_of_rotated_df)\n",
    "    \n",
    "    return df_signal"
   ]
  },
  {
   "cell_type": "code",
   "execution_count": 13,
   "metadata": {},
   "outputs": [],
   "source": [
    "df_signal_ref = singal_df(df_Co60, df_bg=df_pre_bg, ff_array=ff_data)\n",
    "#signal_Co60.head()"
   ]
  },
  {
   "cell_type": "code",
   "execution_count": 14,
   "metadata": {},
   "outputs": [],
   "source": [
    "df_signal_sobp = singal_df(df_sobp, df_bg=df_pre_bg, ff_array=ff_data)\n",
    "#signal_Co60.head()"
   ]
  },
  {
   "cell_type": "code",
   "execution_count": 15,
   "metadata": {},
   "outputs": [],
   "source": [
    "df_signal_bp = singal_df(df_bp, df_bg=df_pre_bg, ff_array=ff_data)"
   ]
  },
  {
   "cell_type": "code",
   "execution_count": 16,
   "metadata": {},
   "outputs": [],
   "source": [
    "df_signal_bp[\"dose_Gy\"] = 60. * df_signal_bp.rotated / df_signal_ref.rotated\n",
    "df_signal_bp[\"dose_Gy_mean\"] = df_signal_bp.apply(lambda tmpdf: get_mean_std(tmpdf.dose_Gy, tmpdf.analysis_circle_centered)[0], axis=1)\n",
    "df_signal_bp[\"dose_Gy_std\"] = df_signal_bp.apply(lambda tmpdf: get_mean_std(tmpdf.dose_Gy, tmpdf.analysis_circle_centered)[1], axis=1)"
   ]
  },
  {
   "cell_type": "code",
   "execution_count": 17,
   "metadata": {},
   "outputs": [],
   "source": [
    "df_signal_sobp[\"dose_Gy\"] = 60. * df_signal_sobp.rotated / df_signal_ref.rotated\n",
    "df_signal_sobp[\"dose_Gy_mean\"] = df_signal_sobp.apply(lambda tmpdf: get_mean_std(tmpdf.dose_Gy, tmpdf.analysis_circle_centered)[0], axis=1)\n",
    "df_signal_sobp[\"dose_Gy_std\"] = df_signal_sobp.apply(lambda tmpdf: get_mean_std(tmpdf.dose_Gy, tmpdf.analysis_circle_centered)[1], axis=1)"
   ]
  },
  {
   "attachments": {},
   "cell_type": "markdown",
   "metadata": {},
   "source": [
    "# Data inspection"
   ]
  },
  {
   "cell_type": "code",
   "execution_count": 18,
   "metadata": {},
   "outputs": [
    {
     "data": {
      "image/png": "[encoded data removed]",
      "text/plain": [
       "<Figure size 640x480 with 1 Axes>"
      ]
     },
     "metadata": {},
     "output_type": "display_data"
    }
   ],
   "source": [
    "fig, ax = plt.subplots()\n",
    "ax.errorbar(df_signal_bp.reset_index().det_id, df_signal_bp.dose_Gy_mean, yerr=df_signal_bp.dose_Gy_std, marker=\".\", linestyle=\"\", label=\"BP\")\n",
    "ax.errorbar(df_signal_sobp.reset_index().det_id, df_signal_sobp.dose_Gy_mean, yerr=df_signal_sobp.dose_Gy_std, marker=\".\", linestyle=\"\", label=\"SOBP\")\n",
    "ax.grid()\n",
    "ax.set_xlabel(\"Detector ID\")\n",
    "ax.set_ylabel(\"Dose [Gy]\")\n",
    "ax.legend();"
   ]
  },
  {
   "cell_type": "code",
   "execution_count": 19,
   "metadata": {},
   "outputs": [
    {
     "data": {
      "text/plain": [
       "det_id\n",
       "37    0.724342\n",
       "38    0.713670\n",
       "39    0.713721\n",
       "40    0.751982\n",
       "Name: dose_Gy_mean, dtype: float64"
      ]
     },
     "execution_count": 19,
     "metadata": {},
     "output_type": "execute_result"
    }
   ],
   "source": [
    "df_signal_bp.dose_Gy_mean.iloc[-4:] / 12"
   ]
  },
  {
   "cell_type": "code",
   "execution_count": 20,
   "metadata": {},
   "outputs": [
    {
     "data": {
      "text/plain": [
       "det_id\n",
       "37    0.673277\n",
       "38    0.675858\n",
       "39    0.679751\n",
       "40    0.690393\n",
       "Name: dose_Gy_mean, dtype: float64"
      ]
     },
     "execution_count": 20,
     "metadata": {},
     "output_type": "execute_result"
    }
   ],
   "source": [
    "df_signal_sobp.dose_Gy_mean.iloc[-4:] / 60"
   ]
  },
  {
   "cell_type": "code",
   "execution_count": 21,
   "metadata": {},
   "outputs": [
    {
     "data": {
      "text/plain": [
       "Text(0, 0.5, 'SOBP / BP')"
      ]
     },
     "execution_count": 21,
     "metadata": {},
     "output_type": "execute_result"
    },
    {
     "data": {
      "image/png": "[encoded data removed]",
      "text/plain": [
       "<Figure size 640x480 with 1 Axes>"
      ]
     },
     "metadata": {},
     "output_type": "display_data"
    }
   ],
   "source": [
    "fig, ax = plt.subplots()\n",
    "ax.plot(df_signal_bp.reset_index().det_id, (df_signal_sobp.dose_Gy_mean / 60) / (df_signal_bp.dose_Gy_mean / 12), label=\"efficiency\", marker=\"o\", linestyle=\"None\")\n",
    "ax.grid()\n",
    "ax.set_xlabel(\"detector id\")\n",
    "ax.set_ylabel(\"SOBP / BP\")"
   ]
  },
  {
   "attachments": {},
   "cell_type": "markdown",
   "metadata": {},
   "source": [
    "# Positions"
   ]
  },
  {
   "cell_type": "code",
   "execution_count": 45,
   "metadata": {},
   "outputs": [
    {
     "data": {
      "text/plain": [
       "'9.73'"
      ]
     },
     "execution_count": 45,
     "metadata": {},
     "output_type": "execute_result"
    }
   ],
   "source": [
    "positions = \"\"\"\n",
    "0,28\n",
    "0,85\n",
    "1,43\n",
    "2,00\n",
    "2,53\n",
    "4,18\n",
    "6,97\n",
    "9,73\n",
    "11,37\n",
    "11,93\n",
    "12,47\n",
    "13,00\n",
    "13,55\n",
    "14,09\n",
    "14,62\n",
    "15,17\n",
    "15,71\n",
    "16,25\n",
    "16,81\n",
    "17,35\n",
    "17,90\n",
    "18,46\n",
    "19,01\n",
    "19,55\n",
    "20,12\n",
    "20,67\n",
    "21,24\n",
    "21,81\n",
    "22,38\n",
    "22,96\n",
    "23,51\n",
    "24,06\n",
    "24,59\n",
    "25,16\n",
    "25,72\n",
    "26,28\n",
    "26,84\n",
    "27,38\n",
    "27,92\n",
    "28,46\n",
    "29,00\n",
    "29,56\n",
    "30,11\n",
    "\"\"\".replace(\",\", \".\").split()\n",
    "positions.pop(5)\n",
    "positions.pop(5)\n",
    "positions.pop(5)"
   ]
  },
  {
   "cell_type": "code",
   "execution_count": 46,
   "metadata": {},
   "outputs": [
    {
     "data": {
      "text/plain": [
       "(40,)"
      ]
     },
     "execution_count": 46,
     "metadata": {},
     "output_type": "execute_result"
    }
   ],
   "source": [
    "import numpy as np\n",
    "pos_mm = np.array(positions, dtype=float)\n",
    "pos_mm.shape "
   ]
  },
  {
   "cell_type": "code",
   "execution_count": 47,
   "metadata": {},
   "outputs": [
    {
     "data": {
      "text/plain": [
       "array([ 0.28,  0.85,  1.43,  2.  ,  2.53, 11.37, 11.93, 12.47, 13.  ,\n",
       "       13.55, 14.09, 14.62, 15.17, 15.71, 16.25, 16.81, 17.35, 17.9 ,\n",
       "       18.46, 19.01, 19.55, 20.12, 20.67, 21.24, 21.81, 22.38, 22.96,\n",
       "       23.51, 24.06, 24.59, 25.16, 25.72, 26.28, 26.84, 27.38, 27.92,\n",
       "       28.46, 29.  , 29.56, 30.11])"
      ]
     },
     "execution_count": 47,
     "metadata": {},
     "output_type": "execute_result"
    }
   ],
   "source": [
    "pos_mm"
   ]
  },
  {
   "cell_type": "code",
   "execution_count": 48,
   "metadata": {},
   "outputs": [
    {
     "data": {
      "image/png": "[encoded data removed]",
      "text/plain": [
       "<Figure size 640x480 with 1 Axes>"
      ]
     },
     "metadata": {},
     "output_type": "display_data"
    }
   ],
   "source": [
    "fig, ax = plt.subplots()\n",
    "ax.errorbar(pos_mm[::-1], df_signal_bp.dose_Gy_mean, yerr=df_signal_bp.dose_Gy_std, marker=\".\", linestyle=\"\", label=\"BP\")\n",
    "ax.errorbar(pos_mm[::-1], df_signal_sobp.dose_Gy_mean, yerr=df_signal_sobp.dose_Gy_std, marker=\".\", linestyle=\"\", label=\"SOBP\")\n",
    "ax.grid()\n",
    "ax.set_xlabel(\"position [mm]\")\n",
    "ax.set_ylabel(\"Dose [Gy]\")\n",
    "ax.legend();"
   ]
  },
  {
   "cell_type": "code",
   "execution_count": null,
   "metadata": {},
   "outputs": [],
   "source": []
  }
 ],
 "metadata": {
  "kernelspec": {
   "display_name": "venv",
   "language": "python",
   "name": "python3"
  },
  "language_info": {
   "codemirror_mode": {
    "name": "ipython",
    "version": 3
   },
   "file_extension": ".py",
   "mimetype": "text/x-python",
   "name": "python",
   "nbconvert_exporter": "python",
   "pygments_lexer": "ipython3",
   "version": "3.8.10"
  },
  "orig_nbformat": 4,
  "vscode": {
   "interpreter": {
    "hash": "c5c2b18c3abf68aa5c970fc72d82db9c05892224e1a29c382a448dec2dfe8943"
   }
  }
 },
 "nbformat": 4,
 "nbformat_minor": 2
}
